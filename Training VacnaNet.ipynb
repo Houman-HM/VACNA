{
 "cells": [
  {
   "attachments": {},
   "cell_type": "markdown",
   "metadata": {},
   "source": [
    "### Importing Libraries"
   ]
  },
  {
   "cell_type": "code",
   "execution_count": 1,
   "metadata": {},
   "outputs": [],
   "source": [
    "import numpy as np \n",
    "import matplotlib.pyplot as plt \n",
    "import seaborn as sns\n",
    "sns.set_theme()\n",
    "\n",
    "import torch \n",
    "import torch.nn as nn \n",
    "import torch.optim as optim\n",
    "from torch.utils.data import Dataset, DataLoader\n",
    "\n",
    "torch.manual_seed(42)\n",
    "torch.cuda.manual_seed_all(42)\n",
    "torch.set_default_dtype(torch.float32)\n",
    "\n",
    "%matplotlib inline"
   ]
  },
  {
   "attachments": {},
   "cell_type": "markdown",
   "metadata": {},
   "source": [
    "### Use GPU if available"
   ]
  },
  {
   "cell_type": "code",
   "execution_count": 2,
   "metadata": {},
   "outputs": [
    {
     "name": "stdout",
     "output_type": "stream",
     "text": [
      "Using cuda device\n"
     ]
    }
   ],
   "source": [
    "device = torch.device(\"cuda\" if torch.cuda.is_available() else \"cpu\")\n",
    "print(f\"Using {device} device\")"
   ]
  },
  {
   "attachments": {},
   "cell_type": "markdown",
   "metadata": {},
   "source": [
    "### Bernstein Polynomials"
   ]
  },
  {
   "cell_type": "code",
   "execution_count": 3,
   "metadata": {},
   "outputs": [],
   "source": [
    "from models.bernstein_torch import bernstein_coeff_order10_new\n",
    "\n",
    "# Generating P matrix\n",
    "t_fin = 10.0\n",
    "num = 100\n",
    "tot_time = torch.linspace(0, t_fin, num)\n",
    "tot_time_copy = tot_time.reshape(num, 1)\n",
    "P, Pdot, Pddot = bernstein_coeff_order10_new(10, tot_time_copy[0], tot_time_copy[-1], tot_time_copy)\n",
    "P_diag = torch.block_diag(P, P, P, P)"
   ]
  },
  {
   "attachments": {},
   "cell_type": "markdown",
   "metadata": {},
   "source": [
    "### Load the Training Dataset"
   ]
  },
  {
   "cell_type": "code",
   "execution_count": 4,
   "metadata": {},
   "outputs": [
    {
     "name": "stdout",
     "output_type": "stream",
     "text": [
      "(33382, 4) (33382, 4) (33382, 2, 100) (33377, 212)\n"
     ]
    }
   ],
   "source": [
    "# Drone Pose: Indexes [0, 1] - x_init, y_init\n",
    "drone_pose_idx = [0, 1, 4, 5]\n",
    "raw_drone_poses_1 = np.load(\"./new_dataset/1/drone_poses.npy\")\n",
    "raw_drone_poses_2 = np.load(\"./new_dataset/2/drone_poses.npy\")\n",
    "raw_drone_poses_3 = np.load(\"./new_dataset/3/drone_poses.npy\")\n",
    "raw_drone_poses_4 = np.load(\"./new_dataset/4/drone_poses.npy\")\n",
    "raw_drone_poses_5 = np.load(\"./new_dataset/5/drone_poses.npy\")\n",
    "raw_drone_poses_6 = np.load(\"./new_dataset/6/drone_poses.npy\")\n",
    "raw_drone_poses_7 = np.load(\"./new_dataset/7/drone_poses.npy\")\n",
    "raw_drone_poses_8 = np.load(\"./new_dataset/8/drone_poses.npy\")\n",
    "raw_drone_poses_9 = np.load(\"./new_dataset/9/drone_poses.npy\")\n",
    "raw_drone_poses_10 = np.load(\"./new_dataset/10/drone_poses.npy\")\n",
    "raw_drone_poses = np.vstack([raw_drone_poses_1, raw_drone_poses_2, raw_drone_poses_3, raw_drone_poses_4, raw_drone_poses_5,\n",
    "                             raw_drone_poses_6, raw_drone_poses_7, raw_drone_poses_8, raw_drone_poses_9, raw_drone_poses_10])\n",
    "drone_poses = np.take(raw_drone_poses, drone_pose_idx, axis=1)\n",
    "\n",
    "# Useful Indexes [0, 1, 4, 5]\n",
    "vehicle_pose_idx = [0, 1, 4, 5]\n",
    "raw_vehicle_poses_1 = np.load(\"./new_dataset/1/vehicle_poses.npy\")\n",
    "raw_vehicle_poses_2 = np.load(\"./new_dataset/2/vehicle_poses.npy\")\n",
    "raw_vehicle_poses_3 = np.load(\"./new_dataset/3/vehicle_poses.npy\")\n",
    "raw_vehicle_poses_4 = np.load(\"./new_dataset/4/vehicle_poses.npy\")\n",
    "raw_vehicle_poses_5 = np.load(\"./new_dataset/5/vehicle_poses.npy\")\n",
    "raw_vehicle_poses_6 = np.load(\"./new_dataset/6/vehicle_poses.npy\")\n",
    "raw_vehicle_poses_7 = np.load(\"./new_dataset/7/vehicle_poses.npy\")\n",
    "raw_vehicle_poses_8 = np.load(\"./new_dataset/8/vehicle_poses.npy\")\n",
    "raw_vehicle_poses_9 = np.load(\"./new_dataset/9/vehicle_poses.npy\")\n",
    "raw_vehicle_poses_10 = np.load(\"./new_dataset/10/vehicle_poses.npy\")\n",
    "raw_vehicle_poses = np.vstack([raw_vehicle_poses_1, raw_vehicle_poses_2, raw_vehicle_poses_3, raw_vehicle_poses_4, raw_vehicle_poses_5,\n",
    "                               raw_vehicle_poses_6, raw_vehicle_poses_7, raw_vehicle_poses_8, raw_vehicle_poses_9, raw_vehicle_poses_10])\n",
    "vehicle_poses = np.take(raw_vehicle_poses, vehicle_pose_idx, axis=1)\n",
    "vehicle_poses[:, 0:2] = 0\n",
    "\n",
    "# Trajectory Tracking Velocities\n",
    "vel_track_1 = np.load(\"./new_dataset/1/tracking_velocities.npy\")\n",
    "vel_track_2 = np.load(\"./new_dataset/2/tracking_velocities.npy\")\n",
    "vel_track_3 = np.load(\"./new_dataset/3/tracking_velocities.npy\")\n",
    "vel_track_4 = np.load(\"./new_dataset/4/tracking_velocities.npy\")\n",
    "vel_track_5 = np.load(\"./new_dataset/5/tracking_velocities.npy\")\n",
    "vel_track_6 = np.load(\"./new_dataset/6/tracking_velocities.npy\")\n",
    "vel_track_7 = np.load(\"./new_dataset/7/tracking_velocities.npy\")\n",
    "vel_track_8 = np.load(\"./new_dataset/8/tracking_velocities.npy\")\n",
    "vel_track_9 = np.load(\"./new_dataset/9/tracking_velocities.npy\")\n",
    "vel_track_10 = np.load(\"./new_dataset/10/tracking_velocities.npy\")\n",
    "vel_track = np.vstack([vel_track_1, vel_track_2, vel_track_3, vel_track_4, vel_track_5,\n",
    "                       vel_track_6, vel_track_7, vel_track_8, vel_track_9, vel_track_10])\n",
    "\n",
    "# Traj Track Final End points\n",
    "traj_track_1 = np.load(\"./new_dataset/1/tracking_trajectories.npy\")\n",
    "traj_track_2 = np.load(\"./new_dataset/2/tracking_trajectories.npy\")\n",
    "traj_track_3 = np.load(\"./new_dataset/3/tracking_trajectories.npy\")\n",
    "traj_track_4 = np.load(\"./new_dataset/4/tracking_trajectories.npy\")\n",
    "traj_track_5 = np.load(\"./new_dataset/5/tracking_trajectories.npy\")\n",
    "traj_track_6 = np.load(\"./new_dataset/6/tracking_trajectories.npy\")\n",
    "traj_track_7 = np.load(\"./new_dataset/7/tracking_trajectories.npy\")\n",
    "traj_track_8 = np.load(\"./new_dataset/8/tracking_trajectories.npy\")\n",
    "traj_track_9 = np.load(\"./new_dataset/9/tracking_trajectories.npy\")\n",
    "traj_track_10 = np.load(\"./new_dataset/10/tracking_trajectories.npy\")\n",
    "traj_track = np.vstack([traj_track_1, traj_track_2, traj_track_3, traj_track_4, traj_track_5,\n",
    "                        traj_track_6, traj_track_7, traj_track_8, traj_track_9, traj_track_10])\n",
    "end_track = np.hstack([traj_track[:, 0, -1].reshape(-1, 1), traj_track[:, 1, -1].reshape(-1, 1)])\n",
    "\n",
    "# Rack Trajectories\n",
    "rack_track_1 = np.load(\"./new_dataset/1/rack_trajectories.npy\")\n",
    "rack_track_2 = np.load(\"./new_dataset/2/rack_trajectories.npy\")\n",
    "rack_track_3 = np.load(\"./new_dataset/3/rack_trajectories.npy\")\n",
    "rack_track_4 = np.load(\"./new_dataset/4/rack_trajectories.npy\")\n",
    "rack_track_5 = np.load(\"./new_dataset/5/rack_trajectories.npy\")\n",
    "rack_track_6 = np.load(\"./new_dataset/6/rack_trajectories.npy\")\n",
    "rack_track_7 = np.load(\"./new_dataset/7/rack_trajectories.npy\")\n",
    "rack_track_8 = np.load(\"./new_dataset/8/rack_trajectories.npy\")\n",
    "rack_track_9 = np.load(\"./new_dataset/9/rack_trajectories.npy\")\n",
    "rack_track_10 = np.load(\"./new_dataset/10/rack_trajectories.npy\")\n",
    "rack_track = np.vstack([rack_track_1, rack_track_2, rack_track_3, rack_track_4, rack_track_5,\n",
    "                        rack_track_6, rack_track_7, rack_track_8, rack_track_9, rack_track_10]).reshape(traj_track.shape[0], -1)\n",
    "\n",
    "# Drone & Vehicle State - Batch x 8\n",
    "state_data = np.hstack([drone_poses, vehicle_poses, end_track, vel_track, rack_track])[5:] #samples+3]\n",
    "state_mean, state_std = state_data.mean(), state_data.std()\n",
    "\n",
    "print(drone_poses.shape, vehicle_poses.shape, traj_track.shape, state_data.shape)"
   ]
  },
  {
   "attachments": {},
   "cell_type": "markdown",
   "metadata": {},
   "source": [
    "### Load the Point Clouds"
   ]
  },
  {
   "cell_type": "code",
   "execution_count": 5,
   "metadata": {},
   "outputs": [
    {
     "name": "stdout",
     "output_type": "stream",
     "text": [
      "(33377, 212) (33377, 2, 200) (33377, 44)\n"
     ]
    }
   ],
   "source": [
    "# Point Cloud\n",
    "pcd_data_1 = np.load(\"./new_dataset/1/modified_points.npy\")\n",
    "pcd_data_2 = np.load(\"./new_dataset/2/modified_points.npy\")\n",
    "pcd_data_3 = np.load(\"./new_dataset/3/modified_points.npy\")\n",
    "pcd_data_4 = np.load(\"./new_dataset/4/modified_points.npy\")\n",
    "pcd_data_5 = np.load(\"./new_dataset/5/modified_points.npy\")\n",
    "pcd_data_6 = np.load(\"./new_dataset/6/modified_points.npy\")\n",
    "pcd_data_7 = np.load(\"./new_dataset/7/modified_points.npy\")\n",
    "pcd_data_8 = np.load(\"./new_dataset/8/modified_points.npy\")\n",
    "pcd_data_9 = np.load(\"./new_dataset/9/modified_points.npy\")\n",
    "pcd_data_10 = np.load(\"./new_dataset/10/modified_points.npy\")\n",
    "pcd_data = np.vstack([pcd_data_1, pcd_data_2, pcd_data_3, pcd_data_4, pcd_data_5, \n",
    "                      pcd_data_6, pcd_data_7, pcd_data_8, pcd_data_9, pcd_data_10])[5:] #samples+3]\n",
    "pcd_data = np.transpose(pcd_data, axes=(0, 2, 1))\n",
    "min_pcd, max_pcd = pcd_data.min(), pcd_data.max()\n",
    "\n",
    "# Ground Truth Coefficients\n",
    "drone_coeff_1 = np.load(\"./new_dataset/1/drone_best_trajectories.npy\").reshape(-1, 22)\n",
    "drone_coeff_2 = np.load(\"./new_dataset/2/drone_best_trajectories.npy\").reshape(-1, 22)\n",
    "drone_coeff_3 = np.load(\"./new_dataset/3/drone_best_trajectories.npy\").reshape(-1, 22)\n",
    "drone_coeff_4 = np.load(\"./new_dataset/4/drone_best_trajectories.npy\").reshape(-1, 22)\n",
    "drone_coeff_5 = np.load(\"./new_dataset/5/drone_best_trajectories.npy\").reshape(-1, 22)\n",
    "drone_coeff_6 = np.load(\"./new_dataset/6/drone_best_trajectories.npy\").reshape(-1, 22)\n",
    "drone_coeff_7 = np.load(\"./new_dataset/7/drone_best_trajectories.npy\").reshape(-1, 22)\n",
    "drone_coeff_8 = np.load(\"./new_dataset/8/drone_best_trajectories.npy\").reshape(-1, 22)\n",
    "drone_coeff_9 = np.load(\"./new_dataset/9/drone_best_trajectories.npy\").reshape(-1, 22)\n",
    "drone_coeff_10 = np.load(\"./new_dataset/10/drone_best_trajectories.npy\").reshape(-1, 22)\n",
    "drone_coeff = np.vstack([drone_coeff_1, drone_coeff_2, drone_coeff_3, drone_coeff_4, drone_coeff_5,\n",
    "                         drone_coeff_6, drone_coeff_7, drone_coeff_8, drone_coeff_9, drone_coeff_10])\n",
    "\n",
    "vehicle_coeff_1 = np.load(\"./new_dataset/1/vehicle_best_trajectories.npy\").reshape(-1, 22)\n",
    "vehicle_coeff_2 = np.load(\"./new_dataset/2/vehicle_best_trajectories.npy\").reshape(-1, 22)\n",
    "vehicle_coeff_3 = np.load(\"./new_dataset/3/vehicle_best_trajectories.npy\").reshape(-1, 22)\n",
    "vehicle_coeff_4 = np.load(\"./new_dataset/4/vehicle_best_trajectories.npy\").reshape(-1, 22)\n",
    "vehicle_coeff_5 = np.load(\"./new_dataset/5/vehicle_best_trajectories.npy\").reshape(-1, 22)\n",
    "vehicle_coeff_6 = np.load(\"./new_dataset/6/vehicle_best_trajectories.npy\").reshape(-1, 22)\n",
    "vehicle_coeff_7 = np.load(\"./new_dataset/7/vehicle_best_trajectories.npy\").reshape(-1, 22)\n",
    "vehicle_coeff_8 = np.load(\"./new_dataset/8/vehicle_best_trajectories.npy\").reshape(-1, 22)\n",
    "vehicle_coeff_9 = np.load(\"./new_dataset/9/vehicle_best_trajectories.npy\").reshape(-1, 22)\n",
    "vehicle_coeff_10 = np.load(\"./new_dataset/10/vehicle_best_trajectories.npy\").reshape(-1, 22)\n",
    "vehicle_coeff = np.vstack([vehicle_coeff_1, vehicle_coeff_2, vehicle_coeff_3, vehicle_coeff_4, vehicle_coeff_5,\n",
    "                           vehicle_coeff_6, vehicle_coeff_7, vehicle_coeff_8, vehicle_coeff_9, vehicle_coeff_10])\n",
    "\n",
    "expert_coeff = np.hstack([drone_coeff, vehicle_coeff])[5:] #samples+3]\n",
    "\n",
    "print(state_data.shape, pcd_data.shape, expert_coeff.shape)"
   ]
  },
  {
   "attachments": {},
   "cell_type": "markdown",
   "metadata": {},
   "source": [
    "### Dataset Loader"
   ]
  },
  {
   "cell_type": "code",
   "execution_count": 6,
   "metadata": {},
   "outputs": [],
   "source": [
    "# Custom Dataset Loader \n",
    "class TrajDataset(Dataset):\n",
    "    \"\"\"Expert Trajectory Dataset.\"\"\"\n",
    "    def __init__(self, state_data, pcd_data, expert_coeff):\n",
    "        \n",
    "        # State Data\n",
    "        self.state = state_data\n",
    "        \n",
    "        # PCD Data\n",
    "        self.pcd = pcd_data\n",
    "        \n",
    "        # Expert Coeff\n",
    "        self.gt = expert_coeff\n",
    "    \n",
    "    def __len__(self):\n",
    "        return len(self.state)    \n",
    "            \n",
    "    def __getitem__(self, idx):\n",
    "        \n",
    "        # Inputs\n",
    "        state = self.state[idx]\n",
    "        pcd = self.pcd[idx]\n",
    "        \n",
    "        # Outputs\n",
    "        gt = self.gt[idx]\n",
    "                 \n",
    "        return torch.tensor(state).float(), torch.tensor(pcd).float(),torch.tensor(gt).float()\n",
    "\n",
    "# Batch Size - 3k or 4k\n",
    "batch_size = 3000\n",
    "\n",
    "# Using PyTorch Dataloader\n",
    "train_dataset = TrajDataset(state_data, pcd_data, expert_coeff)\n",
    "train_loader = DataLoader(train_dataset, batch_size=batch_size, shuffle=True, num_workers=0, drop_last=True)"
   ]
  },
  {
   "cell_type": "code",
   "execution_count": 7,
   "metadata": {},
   "outputs": [
    {
     "name": "stdout",
     "output_type": "stream",
     "text": [
      "State mean: -0.4467416132625483 & std: 3.1826055232556145\n",
      "PCD  min: -62.39320591659159, max: 53.55664677091144\n"
     ]
    }
   ],
   "source": [
    "print(f\"State mean: {state_mean} & std: {state_std}\")\n",
    "print(f\"PCD  min: {min_pcd}, max: {max_pcd}\")"
   ]
  },
  {
   "cell_type": "code",
   "execution_count": 8,
   "metadata": {},
   "outputs": [
    {
     "name": "stdout",
     "output_type": "stream",
     "text": [
      "torch.Size([3000, 212]) torch.Size([3000, 2, 200]) torch.Size([3000, 44])\n"
     ]
    },
    {
     "data": {
      "image/png": "[encoded data removed]",
      "text/plain": [
       "<Figure size 1200x800 with 1 Axes>"
      ]
     },
     "metadata": {},
     "output_type": "display_data"
    }
   ],
   "source": [
    "%matplotlib inline\n",
    "\n",
    "# Sanity Check\n",
    "for batch_num, (datas) in enumerate(train_loader):\n",
    "    state, pcd, gt = datas\n",
    "    \n",
    "    print(state.shape, pcd.shape, gt.shape)\n",
    "   \n",
    "    # Plotting             \n",
    "    plt.figure(figsize=(12, 8))\n",
    "\n",
    "    traj_idx = np.random.randint(0, batch_size)\n",
    "    \n",
    "    # Point Cloud \n",
    "    plt.scatter(pcd[traj_idx, 0, :], pcd[traj_idx, 1, :])\n",
    "\n",
    "    # Ground Truth trajectories\n",
    "    traj_gt = (P_diag @ gt.T).T\n",
    "    traj_drone_gt = traj_gt[:, 0:200]\n",
    "    traj_vehicle_gt = traj_gt[:, 200:]\n",
    "\n",
    "    # Plots\n",
    "    plt.plot(traj_drone_gt[traj_idx, 0:100], traj_drone_gt[traj_idx, 100:], color=\"red\", linewidth=1.5, label=\"Drone\")\n",
    "    plt.plot(traj_vehicle_gt[traj_idx, 0:100], traj_vehicle_gt[traj_idx, 100:], color=\"blue\", linewidth=1.5, label=\"Vehicle\")\n",
    "                \n",
    "    plt.legend()\n",
    "    plt.axis(\"equal\")\n",
    "    plt.xlabel(\"X\")\n",
    "    plt.ylabel(\"Y\")\n",
    "    plt.show()\n",
    "    \n",
    "    break"
   ]
  },
  {
   "attachments": {},
   "cell_type": "markdown",
   "metadata": {},
   "source": [
    "### CVAE Model"
   ]
  },
  {
   "cell_type": "code",
   "execution_count": 9,
   "metadata": {},
   "outputs": [],
   "source": [
    "from models.VacnaNet import Encoder, Decoder, Beta_cVAE, PointNet\n",
    "\n",
    "# Differentiable Layer\n",
    "num_batch = train_loader.batch_size\n",
    "\n",
    "P = P.to(device) \n",
    "Pdot = Pdot.to(device)\n",
    "P_diag = P_diag.to(device)\n",
    "\n",
    "# PointNet\n",
    "pcd_features = 40\n",
    "pointnet = PointNet(inp_channel=2, emb_dims=1024, output_channels=pcd_features)\n",
    "\n",
    "# Beta-cVAE Inputs\n",
    "enc_inp_dim = 212 + pcd_features \n",
    "enc_out_dim = 400\n",
    "dec_inp_dim = enc_inp_dim\n",
    "dec_out_dim = 44\n",
    "hidden_dim = 1024 * 2\n",
    "z_dim = 6\n",
    "\n",
    "encoder = Encoder(enc_inp_dim, enc_out_dim, hidden_dim, z_dim)\n",
    "decoder = Decoder(dec_inp_dim, dec_out_dim, hidden_dim, z_dim)\n",
    "model = Beta_cVAE(num_batch, P, Pdot, encoder, decoder, pointnet, state_mean, state_std, min_pcd, max_pcd).to(device)"
   ]
  },
  {
   "attachments": {},
   "cell_type": "markdown",
   "metadata": {},
   "source": [
    "### Training Loop"
   ]
  },
  {
   "cell_type": "code",
   "execution_count": 10,
   "metadata": {},
   "outputs": [
    {
     "name": "stdout",
     "output_type": "stream",
     "text": [
      "Epoch: 1, Train Loss: 5.148, RCL: 5.148, KL: 5.821\n",
      "Epoch: 5, Train Loss: 2.572, RCL: 2.556, KL: 4.397\n",
      "Epoch: 9, Train Loss: 1.286, RCL: 1.263, KL: 3.228\n",
      "Epoch: 13, Train Loss: 0.657, RCL: 0.629, KL: 2.649\n",
      "Epoch: 17, Train Loss: 0.382, RCL: 0.349, KL: 2.377\n",
      "Epoch: 21, Train Loss: 0.261, RCL: 0.223, KL: 2.193\n",
      "Epoch: 25, Train Loss: 0.214, RCL: 0.171, KL: 2.049\n",
      "Epoch: 29, Train Loss: 0.195, RCL: 0.149, KL: 1.869\n",
      "Epoch: 33, Train Loss: 0.195, RCL: 0.147, KL: 1.706\n",
      "Epoch: 37, Train Loss: 0.197, RCL: 0.147, KL: 1.588\n",
      "Epoch: 41, Train Loss: 0.199, RCL: 0.148, KL: 1.443\n",
      "Epoch: 45, Train Loss: 0.202, RCL: 0.151, KL: 1.341\n",
      "Epoch: 49, Train Loss: 0.207, RCL: 0.155, KL: 1.232\n",
      "Epoch: 53, Train Loss: 0.208, RCL: 0.157, KL: 1.125\n",
      "Epoch: 57, Train Loss: 0.210, RCL: 0.159, KL: 1.039\n",
      "Epoch: 61, Train Loss: 0.212, RCL: 0.161, KL: 0.963\n",
      "Epoch: 65, Train Loss: 0.214, RCL: 0.163, KL: 0.919\n",
      "Epoch: 69, Train Loss: 0.217, RCL: 0.165, KL: 0.872\n",
      "Epoch: 73, Train Loss: 0.220, RCL: 0.168, KL: 0.822\n",
      "Epoch: 77, Train Loss: 0.222, RCL: 0.170, KL: 0.776\n",
      "Epoch: 81, Train Loss: 0.224, RCL: 0.173, KL: 0.731\n",
      "Epoch: 85, Train Loss: 0.226, RCL: 0.176, KL: 0.689\n",
      "Epoch: 89, Train Loss: 0.229, RCL: 0.179, KL: 0.645\n",
      "Epoch: 93, Train Loss: 0.230, RCL: 0.180, KL: 0.632\n",
      "Epoch: 97, Train Loss: 0.234, RCL: 0.182, KL: 0.619\n",
      "Epoch: 101, Train Loss: 0.233, RCL: 0.181, KL: 0.600\n",
      "Epoch: 105, Train Loss: 0.236, RCL: 0.184, KL: 0.582\n",
      "Epoch: 109, Train Loss: 0.239, RCL: 0.185, KL: 0.563\n",
      "Epoch: 113, Train Loss: 0.239, RCL: 0.186, KL: 0.543\n",
      "Epoch: 117, Train Loss: 0.242, RCL: 0.188, KL: 0.525\n",
      "Epoch: 121, Train Loss: 0.244, RCL: 0.190, KL: 0.509\n",
      "Epoch: 125, Train Loss: 0.244, RCL: 0.189, KL: 0.507\n",
      "Epoch: 129, Train Loss: 0.245, RCL: 0.188, KL: 0.503\n",
      "Epoch: 133, Train Loss: 0.250, RCL: 0.192, KL: 0.499\n",
      "Epoch: 137, Train Loss: 0.250, RCL: 0.191, KL: 0.496\n",
      "Epoch: 141, Train Loss: 0.250, RCL: 0.190, KL: 0.490\n",
      "Epoch: 145, Train Loss: 0.254, RCL: 0.193, KL: 0.486\n",
      "Epoch: 149, Train Loss: 0.255, RCL: 0.193, KL: 0.480\n",
      "Epoch: 153, Train Loss: 0.256, RCL: 0.193, KL: 0.478\n",
      "Epoch: 157, Train Loss: 0.258, RCL: 0.193, KL: 0.477\n",
      "Epoch: 161, Train Loss: 0.263, RCL: 0.197, KL: 0.477\n",
      "Epoch: 165, Train Loss: 0.262, RCL: 0.194, KL: 0.476\n",
      "Epoch: 169, Train Loss: 0.263, RCL: 0.194, KL: 0.475\n",
      "Epoch: 173, Train Loss: 0.264, RCL: 0.193, KL: 0.474\n",
      "Epoch: 177, Train Loss: 0.266, RCL: 0.193, KL: 0.474\n"
     ]
    }
   ],
   "source": [
    "epochs = 180\n",
    "step, beta = 0, 3.5 # 3.5\n",
    "optimizer = optim.AdamW(model.parameters(), lr = 2e-4, weight_decay=6e-5)\n",
    "scheduler = optim.lr_scheduler.StepLR(optimizer, step_size = 30, gamma = 0.1)\n",
    "\n",
    "avg_train_loss, avg_rcl_loss, avg_kl_loss = [], [], []\n",
    "for epoch in range(epochs):\n",
    "    \n",
    "    # Train Loop\n",
    "    losses_train, kl_losses, rcl_losses = [], [], []\n",
    "    model.train()\n",
    "    for (state, pcd, gt) in train_loader:\n",
    "        \n",
    "        # Input and Output \n",
    "        state = state.to(device)\n",
    "        pcd = pcd.to(device)\n",
    "        gt = gt.to(device)\n",
    "\n",
    "        # Traj Ground truth\n",
    "        traj_gt = (P_diag @ gt.T).T\n",
    "\n",
    "        # Initial State Drone & Vehicle\n",
    "        initial_state = state[:, 0:10]\n",
    "       \n",
    "        # Forward Pass\n",
    "        mean, std, y_star = model(state, pcd, traj_gt, initial_state)\n",
    "        traj_star = (P_diag @ y_star.T).T\n",
    "\n",
    "        # Loss function\n",
    "        KL_loss, RCL_loss, loss = model.loss_function(mean, std, traj_star, traj_gt, beta, step)\n",
    "        \n",
    "        optimizer.zero_grad()\n",
    "        loss.backward()\n",
    "        optimizer.step()\n",
    "        \n",
    "        losses_train.append(loss.detach().cpu().numpy()) \n",
    "        rcl_losses.append(RCL_loss.detach().cpu().numpy())\n",
    "        kl_losses.append(KL_loss.detach().cpu().numpy())\n",
    "\n",
    "    if epoch % 4 == 0:    \n",
    "        print(f\"Epoch: {epoch + 1}, Train Loss: {np.average(losses_train):.3f}, RCL: {np.average(rcl_losses):.3f}, KL: {np.average(kl_losses):.3f}\")\n",
    "\n",
    "    step += 0.25 #0.15\n",
    "    scheduler.step()\n",
    "    avg_train_loss.append(np.average(losses_train)), avg_rcl_loss.append(np.average(rcl_losses)), \\\n",
    "    avg_kl_loss.append(np.average(kl_losses))"
   ]
  },
  {
   "attachments": {},
   "cell_type": "markdown",
   "metadata": {},
   "source": [
    "### Saving the Weights"
   ]
  },
  {
   "cell_type": "code",
   "execution_count": null,
   "metadata": {},
   "outputs": [],
   "source": [
    "torch.save(model.state_dict(), './weights/hmnet_no_acc_zdim_6.pth')"
   ]
  }
 ],
 "metadata": {
  "kernelspec": {
   "display_name": "base",
   "language": "python",
   "name": "python3"
  },
  "language_info": {
   "codemirror_mode": {
    "name": "ipython",
    "version": 3
   },
   "file_extension": ".py",
   "mimetype": "text/x-python",
   "name": "python",
   "nbconvert_exporter": "python",
   "pygments_lexer": "ipython3",
   "version": "3.8.13"
  },
  "orig_nbformat": 4,
  "vscode": {
   "interpreter": {
    "hash": "16393c2ae4d58cc8cc0a210ebe1164902e3ec9aabdd9b353823f0efd66d8ee11"
   }
  }
 },
 "nbformat": 4,
 "nbformat_minor": 2
}
